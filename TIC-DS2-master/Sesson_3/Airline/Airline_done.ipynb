{
 "cells": [
  {
   "cell_type": "markdown",
   "metadata": {},
   "source": [
    "# 1. Cleaning"
   ]
  },
  {
   "cell_type": "markdown",
   "metadata": {},
   "source": [
    "Note: the existing \"2008.csv\" file in the directory could be the smaller version of the original.\n",
    "Consider downloading full-size file from http://stat-computing.org/dataexpo/2009/2008.csv.bz2"
   ]
  },
  {
   "cell_type": "code",
   "execution_count": 89,
   "metadata": {
    "ExecuteTime": {
     "end_time": "2018-08-23T09:02:45.047279Z",
     "start_time": "2018-08-23T09:02:16.236087Z"
    }
   },
   "outputs": [],
   "source": [
    "# import neccessary libraries\n",
    "import numpy as np\n",
    "import pandas as pd\n",
    "import seaborn as sns\n",
    "import matplotlib.pyplot as plt\n",
    "\n",
    "# show plot intermediately under the calling cell\n",
    "%matplotlib inline\n",
    "\n",
    "# disable some warnings\n",
    "import warnings\n",
    "warnings.simplefilter(action = \"ignore\")\n",
    "\n",
    "# set to unlimited column display:\n",
    "pd.set_option('display.max_columns', None)\n",
    "\n",
    "# import database\n",
    "df = pd.read_csv('2008.csv')"
   ]
  },
  {
   "cell_type": "markdown",
   "metadata": {},
   "source": [
    "<center>Table: (sample) Dataframe including column dtype</center>"
   ]
  },
  {
   "cell_type": "code",
   "execution_count": 90,
   "metadata": {
    "hide_input": true,
    "scrolled": false
   },
   "outputs": [
    {
     "data": {
      "text/html": [
       "<div>\n",
       "<style scoped>\n",
       "    .dataframe tbody tr th:only-of-type {\n",
       "        vertical-align: middle;\n",
       "    }\n",
       "\n",
       "    .dataframe tbody tr th {\n",
       "        vertical-align: top;\n",
       "    }\n",
       "\n",
       "    .dataframe thead th {\n",
       "        text-align: right;\n",
       "    }\n",
       "</style>\n",
       "<table border=\"1\" class=\"dataframe\">\n",
       "  <thead>\n",
       "    <tr style=\"text-align: right;\">\n",
       "      <th></th>\n",
       "      <th>Year</th>\n",
       "      <th>Month</th>\n",
       "      <th>DayofMonth</th>\n",
       "      <th>DayOfWeek</th>\n",
       "      <th>DepTime</th>\n",
       "      <th>CRSDepTime</th>\n",
       "      <th>ArrTime</th>\n",
       "      <th>CRSArrTime</th>\n",
       "      <th>UniqueCarrier</th>\n",
       "      <th>FlightNum</th>\n",
       "      <th>TailNum</th>\n",
       "      <th>ActualElapsedTime</th>\n",
       "      <th>CRSElapsedTime</th>\n",
       "      <th>AirTime</th>\n",
       "      <th>ArrDelay</th>\n",
       "      <th>DepDelay</th>\n",
       "      <th>Origin</th>\n",
       "      <th>Dest</th>\n",
       "      <th>Distance</th>\n",
       "      <th>TaxiIn</th>\n",
       "      <th>TaxiOut</th>\n",
       "      <th>Cancelled</th>\n",
       "      <th>CancellationCode</th>\n",
       "      <th>Diverted</th>\n",
       "      <th>CarrierDelay</th>\n",
       "      <th>WeatherDelay</th>\n",
       "      <th>NASDelay</th>\n",
       "      <th>SecurityDelay</th>\n",
       "      <th>LateAircraftDelay</th>\n",
       "    </tr>\n",
       "  </thead>\n",
       "  <tbody>\n",
       "    <tr>\n",
       "      <th>0</th>\n",
       "      <td>2008</td>\n",
       "      <td>3</td>\n",
       "      <td>29</td>\n",
       "      <td>6</td>\n",
       "      <td>1118</td>\n",
       "      <td>1100</td>\n",
       "      <td>1133</td>\n",
       "      <td>1116</td>\n",
       "      <td>EV</td>\n",
       "      <td>4654</td>\n",
       "      <td>N981EV</td>\n",
       "      <td>75</td>\n",
       "      <td>76</td>\n",
       "      <td>52</td>\n",
       "      <td>17</td>\n",
       "      <td>18</td>\n",
       "      <td>ATL</td>\n",
       "      <td>MOB</td>\n",
       "      <td>302</td>\n",
       "      <td>2</td>\n",
       "      <td>21</td>\n",
       "      <td>0</td>\n",
       "      <td>NaN</td>\n",
       "      <td>0</td>\n",
       "      <td>17</td>\n",
       "      <td>0</td>\n",
       "      <td>0</td>\n",
       "      <td>0</td>\n",
       "      <td>0</td>\n",
       "    </tr>\n",
       "    <tr>\n",
       "      <th>1</th>\n",
       "      <td>2008</td>\n",
       "      <td>6</td>\n",
       "      <td>27</td>\n",
       "      <td>5</td>\n",
       "      <td>1358</td>\n",
       "      <td>1405</td>\n",
       "      <td>1953</td>\n",
       "      <td>2000</td>\n",
       "      <td>CO</td>\n",
       "      <td>1848</td>\n",
       "      <td>N39343</td>\n",
       "      <td>235</td>\n",
       "      <td>235</td>\n",
       "      <td>216</td>\n",
       "      <td>-7</td>\n",
       "      <td>-7</td>\n",
       "      <td>SJC</td>\n",
       "      <td>IAH</td>\n",
       "      <td>1608</td>\n",
       "      <td>5</td>\n",
       "      <td>14</td>\n",
       "      <td>0</td>\n",
       "      <td>NaN</td>\n",
       "      <td>0</td>\n",
       "      <td>NaN</td>\n",
       "      <td>NaN</td>\n",
       "      <td>NaN</td>\n",
       "      <td>NaN</td>\n",
       "      <td>NaN</td>\n",
       "    </tr>\n",
       "    <tr>\n",
       "      <th>dtypes</th>\n",
       "      <td>int64</td>\n",
       "      <td>int64</td>\n",
       "      <td>int64</td>\n",
       "      <td>int64</td>\n",
       "      <td>float64</td>\n",
       "      <td>int64</td>\n",
       "      <td>float64</td>\n",
       "      <td>int64</td>\n",
       "      <td>object</td>\n",
       "      <td>int64</td>\n",
       "      <td>object</td>\n",
       "      <td>float64</td>\n",
       "      <td>float64</td>\n",
       "      <td>float64</td>\n",
       "      <td>float64</td>\n",
       "      <td>float64</td>\n",
       "      <td>object</td>\n",
       "      <td>object</td>\n",
       "      <td>int64</td>\n",
       "      <td>float64</td>\n",
       "      <td>float64</td>\n",
       "      <td>int64</td>\n",
       "      <td>object</td>\n",
       "      <td>int64</td>\n",
       "      <td>float64</td>\n",
       "      <td>float64</td>\n",
       "      <td>float64</td>\n",
       "      <td>float64</td>\n",
       "      <td>float64</td>\n",
       "    </tr>\n",
       "  </tbody>\n",
       "</table>\n",
       "</div>"
      ],
      "text/plain": [
       "         Year  Month DayofMonth DayOfWeek  DepTime CRSDepTime  ArrTime  \\\n",
       "0        2008      3         29         6     1118       1100     1133   \n",
       "1        2008      6         27         5     1358       1405     1953   \n",
       "dtypes  int64  int64      int64     int64  float64      int64  float64   \n",
       "\n",
       "       CRSArrTime UniqueCarrier FlightNum TailNum ActualElapsedTime  \\\n",
       "0            1116            EV      4654  N981EV                75   \n",
       "1            2000            CO      1848  N39343               235   \n",
       "dtypes      int64        object     int64  object           float64   \n",
       "\n",
       "       CRSElapsedTime  AirTime ArrDelay DepDelay  Origin    Dest Distance  \\\n",
       "0                  76       52       17       18     ATL     MOB      302   \n",
       "1                 235      216       -7       -7     SJC     IAH     1608   \n",
       "dtypes        float64  float64  float64  float64  object  object    int64   \n",
       "\n",
       "         TaxiIn  TaxiOut Cancelled CancellationCode Diverted CarrierDelay  \\\n",
       "0             2       21         0              NaN        0           17   \n",
       "1             5       14         0              NaN        0          NaN   \n",
       "dtypes  float64  float64     int64           object    int64      float64   \n",
       "\n",
       "       WeatherDelay NASDelay SecurityDelay LateAircraftDelay  \n",
       "0                 0        0             0                 0  \n",
       "1               NaN      NaN           NaN               NaN  \n",
       "dtypes      float64  float64       float64           float64  "
      ]
     },
     "execution_count": 90,
     "metadata": {},
     "output_type": "execute_result"
    }
   ],
   "source": [
    "dtypes = pd.Series(df.dtypes,name='dtypes')\n",
    "df.head(2).append(dtypes)"
   ]
  },
  {
   "cell_type": "markdown",
   "metadata": {},
   "source": [
    "## 1.1. Descriptive Statistics"
   ]
  },
  {
   "cell_type": "markdown",
   "metadata": {
    "hide_input": false
   },
   "source": [
    "<center>Figure: Correlation Matrix of some columns</center>"
   ]
  },
  {
   "cell_type": "code",
   "execution_count": 91,
   "metadata": {},
   "outputs": [
    {
     "data": {
      "image/png": "[encoded data removed]",
      "text/plain": [
       "<Figure size 720x576 with 2 Axes>"
      ]
     },
     "metadata": {},
     "output_type": "display_data"
    }
   ],
   "source": [
    "def plot_corr_matr(df, figsize=(10, 8)):\n",
    "    \"\"\"\n",
    "    Plot Correlation matrix using Seaborns heatmap\n",
    "\n",
    "    Parameters\n",
    "    ----------\n",
    "    df: pandas.DataFrame\n",
    "\n",
    "    figsize: tuple\n",
    "        size of the whole plot\n",
    "    \"\"\"\n",
    "    plt.figure(figsize=figsize)\n",
    "    corr = df.corr().round(2)\n",
    "    # mask = np.zeros_like(corr)\n",
    "    # mask[np.triu_indices_from(mask)] = True\n",
    "    # Viet tat seaborn as sns\n",
    "    sns.heatmap(\n",
    "        corr,\n",
    "        cmap=\"seismic\",\n",
    "        square=True,\n",
    "        xticklabels=corr.columns.values,\n",
    "        yticklabels=corr.columns.values,\n",
    "        center=0,\n",
    "        annot=True)\n",
    "    plt.xticks(rotation=45)\n",
    "    plt.show()\n",
    "    \n",
    "plot_corr_matr(df.loc[:,'DepTime':'Distance'])\n",
    "# plot_corr_matr(df)"
   ]
  },
  {
   "cell_type": "markdown",
   "metadata": {},
   "source": [
    "//////// _From the graph above, which features, in your opinions, should be removed, which should be kept, why?_\n",
    "\n",
    "## 1st\n",
    "\n",
    "-To classify whether a flight is late or not, choose __ArrTime as the label__.\n",
    "\n",
    "-__ArrTime__, and __DepTime__ although have high correlation (0.72) but still not enough, we leave it to PCA to eliminate collinearity.\n",
    "\n",
    "-__CRSArrTime__ and __ArrTime__ also has 0.87 correlation score, we just keep __ArrTime__ as it is the real time data.\n",
    "\n",
    "-__ActualElapsedTime, CRSElapedTime, AirTime__ and __Distance__ have very high correlation (>0.95) so we can just keep one feature (Distance) as predictor.\n",
    "\n",
    "-__CRSDepTime__ and __DepTime__ also has 0.97 correlation score, we just keep __DepTime__ as it is the real time data.\n",
    "\n",
    "-__DepDelay__ is a predictor and __ArrDelay__ is a lable. __DepDelay__ and __ArrDelay__ have very high correlation (0.93).\n",
    "So we want to see if other features can be a good predictors to ArrDelay, __delete DepDelay is the choice__.\n",
    "\n",
    "\n",
    "\n",
    "\n",
    "\n",
    "\n",
    "\n",
    "\n"
   ]
  },
  {
   "cell_type": "code",
   "execution_count": 92,
   "metadata": {},
   "outputs": [],
   "source": [
    "# delete CRSDepTime, CRSArrTime, ActualElapsedTime, CRSElapsedTime, AirTime, DepDelay\n",
    "del df['CRSDepTime']\n",
    "del df['CRSArrTime']\n",
    "del df['ActualElapsedTime']\n",
    "del df['CRSElapsedTime']\n",
    "del df['AirTime']\n",
    "del df['DepDelay']"
   ]
  },
  {
   "cell_type": "code",
   "execution_count": 93,
   "metadata": {},
   "outputs": [],
   "source": [
    "# Loc cac mau tin sau khi loai bo CRSDepTime, CRSArrTime, ActualElapsedTime, CRSElapsedTime, AirTime, DepDelay\n",
    "df = df.loc[:,'DepTime':'Distance']"
   ]
  },
  {
   "cell_type": "markdown",
   "metadata": {},
   "source": [
    "////////// End the 1st request"
   ]
  },
  {
   "cell_type": "markdown",
   "metadata": {},
   "source": [
    "<center>Table: Describe database</center>"
   ]
  },
  {
   "cell_type": "code",
   "execution_count": 94,
   "metadata": {
    "hide_input": false,
    "scrolled": false
   },
   "outputs": [
    {
     "data": {
      "text/html": [
       "<div>\n",
       "<style scoped>\n",
       "    .dataframe tbody tr th:only-of-type {\n",
       "        vertical-align: middle;\n",
       "    }\n",
       "\n",
       "    .dataframe tbody tr th {\n",
       "        vertical-align: top;\n",
       "    }\n",
       "\n",
       "    .dataframe thead th {\n",
       "        text-align: right;\n",
       "    }\n",
       "</style>\n",
       "<table border=\"1\" class=\"dataframe\">\n",
       "  <thead>\n",
       "    <tr style=\"text-align: right;\">\n",
       "      <th></th>\n",
       "      <th>count</th>\n",
       "      <th>unique</th>\n",
       "      <th>top</th>\n",
       "      <th>freq</th>\n",
       "      <th>mean</th>\n",
       "      <th>std</th>\n",
       "      <th>min</th>\n",
       "      <th>25%</th>\n",
       "      <th>50%</th>\n",
       "      <th>75%</th>\n",
       "      <th>max</th>\n",
       "    </tr>\n",
       "  </thead>\n",
       "  <tbody>\n",
       "    <tr>\n",
       "      <th>DepTime</th>\n",
       "      <td>441304</td>\n",
       "      <td>NaN</td>\n",
       "      <td>NaN</td>\n",
       "      <td>NaN</td>\n",
       "      <td>1333.03</td>\n",
       "      <td>477.991</td>\n",
       "      <td>1</td>\n",
       "      <td>928</td>\n",
       "      <td>1325</td>\n",
       "      <td>1727</td>\n",
       "      <td>2400</td>\n",
       "    </tr>\n",
       "    <tr>\n",
       "      <th>ArrTime</th>\n",
       "      <td>440370</td>\n",
       "      <td>NaN</td>\n",
       "      <td>NaN</td>\n",
       "      <td>NaN</td>\n",
       "      <td>1480.9</td>\n",
       "      <td>504.815</td>\n",
       "      <td>1</td>\n",
       "      <td>1107</td>\n",
       "      <td>1512</td>\n",
       "      <td>1908</td>\n",
       "      <td>2400</td>\n",
       "    </tr>\n",
       "    <tr>\n",
       "      <th>UniqueCarrier</th>\n",
       "      <td>450000</td>\n",
       "      <td>20</td>\n",
       "      <td>WN</td>\n",
       "      <td>76815</td>\n",
       "      <td>NaN</td>\n",
       "      <td>NaN</td>\n",
       "      <td>NaN</td>\n",
       "      <td>NaN</td>\n",
       "      <td>NaN</td>\n",
       "      <td>NaN</td>\n",
       "      <td>NaN</td>\n",
       "    </tr>\n",
       "    <tr>\n",
       "      <th>FlightNum</th>\n",
       "      <td>450000</td>\n",
       "      <td>NaN</td>\n",
       "      <td>NaN</td>\n",
       "      <td>NaN</td>\n",
       "      <td>2221.48</td>\n",
       "      <td>1958.52</td>\n",
       "      <td>1</td>\n",
       "      <td>623</td>\n",
       "      <td>1569</td>\n",
       "      <td>3512</td>\n",
       "      <td>7829</td>\n",
       "    </tr>\n",
       "    <tr>\n",
       "      <th>TailNum</th>\n",
       "      <td>444581</td>\n",
       "      <td>5305</td>\n",
       "      <td>N485HA</td>\n",
       "      <td>305</td>\n",
       "      <td>NaN</td>\n",
       "      <td>NaN</td>\n",
       "      <td>NaN</td>\n",
       "      <td>NaN</td>\n",
       "      <td>NaN</td>\n",
       "      <td>NaN</td>\n",
       "      <td>NaN</td>\n",
       "    </tr>\n",
       "    <tr>\n",
       "      <th>ArrDelay</th>\n",
       "      <td>440172</td>\n",
       "      <td>NaN</td>\n",
       "      <td>NaN</td>\n",
       "      <td>NaN</td>\n",
       "      <td>8.12522</td>\n",
       "      <td>38.6112</td>\n",
       "      <td>-86</td>\n",
       "      <td>-10</td>\n",
       "      <td>-2</td>\n",
       "      <td>12</td>\n",
       "      <td>1337</td>\n",
       "    </tr>\n",
       "    <tr>\n",
       "      <th>Origin</th>\n",
       "      <td>450000</td>\n",
       "      <td>301</td>\n",
       "      <td>ATL</td>\n",
       "      <td>26563</td>\n",
       "      <td>NaN</td>\n",
       "      <td>NaN</td>\n",
       "      <td>NaN</td>\n",
       "      <td>NaN</td>\n",
       "      <td>NaN</td>\n",
       "      <td>NaN</td>\n",
       "      <td>NaN</td>\n",
       "    </tr>\n",
       "    <tr>\n",
       "      <th>Dest</th>\n",
       "      <td>450000</td>\n",
       "      <td>301</td>\n",
       "      <td>ATL</td>\n",
       "      <td>26742</td>\n",
       "      <td>NaN</td>\n",
       "      <td>NaN</td>\n",
       "      <td>NaN</td>\n",
       "      <td>NaN</td>\n",
       "      <td>NaN</td>\n",
       "      <td>NaN</td>\n",
       "      <td>NaN</td>\n",
       "    </tr>\n",
       "    <tr>\n",
       "      <th>Distance</th>\n",
       "      <td>450000</td>\n",
       "      <td>NaN</td>\n",
       "      <td>NaN</td>\n",
       "      <td>NaN</td>\n",
       "      <td>725.162</td>\n",
       "      <td>561.382</td>\n",
       "      <td>24</td>\n",
       "      <td>325</td>\n",
       "      <td>580</td>\n",
       "      <td>950</td>\n",
       "      <td>4962</td>\n",
       "    </tr>\n",
       "  </tbody>\n",
       "</table>\n",
       "</div>"
      ],
      "text/plain": [
       "                count unique     top   freq     mean      std  min   25%  \\\n",
       "DepTime        441304    NaN     NaN    NaN  1333.03  477.991    1   928   \n",
       "ArrTime        440370    NaN     NaN    NaN   1480.9  504.815    1  1107   \n",
       "UniqueCarrier  450000     20      WN  76815      NaN      NaN  NaN   NaN   \n",
       "FlightNum      450000    NaN     NaN    NaN  2221.48  1958.52    1   623   \n",
       "TailNum        444581   5305  N485HA    305      NaN      NaN  NaN   NaN   \n",
       "ArrDelay       440172    NaN     NaN    NaN  8.12522  38.6112  -86   -10   \n",
       "Origin         450000    301     ATL  26563      NaN      NaN  NaN   NaN   \n",
       "Dest           450000    301     ATL  26742      NaN      NaN  NaN   NaN   \n",
       "Distance       450000    NaN     NaN    NaN  725.162  561.382   24   325   \n",
       "\n",
       "                50%   75%   max  \n",
       "DepTime        1325  1727  2400  \n",
       "ArrTime        1512  1908  2400  \n",
       "UniqueCarrier   NaN   NaN   NaN  \n",
       "FlightNum      1569  3512  7829  \n",
       "TailNum         NaN   NaN   NaN  \n",
       "ArrDelay         -2    12  1337  \n",
       "Origin          NaN   NaN   NaN  \n",
       "Dest            NaN   NaN   NaN  \n",
       "Distance        580   950  4962  "
      ]
     },
     "execution_count": 94,
     "metadata": {},
     "output_type": "execute_result"
    }
   ],
   "source": [
    "# Hien thi dac tinh\n",
    "df.describe(include='all').T"
   ]
  },
  {
   "cell_type": "markdown",
   "metadata": {},
   "source": [
    "## 1.2. NaN Cleaning"
   ]
  },
  {
   "cell_type": "markdown",
   "metadata": {},
   "source": [
    "<center>Table: Recheck describe columns with NaN values</center>"
   ]
  },
  {
   "cell_type": "code",
   "execution_count": 95,
   "metadata": {
    "ExecuteTime": {
     "end_time": "2018-08-23T09:03:17.952641Z",
     "start_time": "2018-08-23T09:02:48.558977Z"
    },
    "hide_input": false,
    "scrolled": false
   },
   "outputs": [
    {
     "data": {
      "text/html": [
       "<div>\n",
       "<style scoped>\n",
       "    .dataframe tbody tr th:only-of-type {\n",
       "        vertical-align: middle;\n",
       "    }\n",
       "\n",
       "    .dataframe tbody tr th {\n",
       "        vertical-align: top;\n",
       "    }\n",
       "\n",
       "    .dataframe thead th {\n",
       "        text-align: right;\n",
       "    }\n",
       "</style>\n",
       "<table border=\"1\" class=\"dataframe\">\n",
       "  <thead>\n",
       "    <tr style=\"text-align: right;\">\n",
       "      <th></th>\n",
       "      <th>Na Count</th>\n",
       "      <th>Na Percentage</th>\n",
       "      <th>mode</th>\n",
       "      <th>mean</th>\n",
       "      <th>std</th>\n",
       "      <th>min</th>\n",
       "      <th>25%</th>\n",
       "      <th>50%</th>\n",
       "      <th>75%</th>\n",
       "      <th>max</th>\n",
       "    </tr>\n",
       "  </thead>\n",
       "  <tbody>\n",
       "    <tr>\n",
       "      <th>DepTime</th>\n",
       "      <td>8696</td>\n",
       "      <td>1.93244</td>\n",
       "      <td>555</td>\n",
       "      <td>1333.030804</td>\n",
       "      <td>477.990830</td>\n",
       "      <td>1.0</td>\n",
       "      <td>928.0</td>\n",
       "      <td>1325.0</td>\n",
       "      <td>1727.0</td>\n",
       "      <td>2400.0</td>\n",
       "    </tr>\n",
       "    <tr>\n",
       "      <th>ArrTime</th>\n",
       "      <td>9630</td>\n",
       "      <td>2.14</td>\n",
       "      <td>1020</td>\n",
       "      <td>1480.901621</td>\n",
       "      <td>504.814718</td>\n",
       "      <td>1.0</td>\n",
       "      <td>1107.0</td>\n",
       "      <td>1512.0</td>\n",
       "      <td>1908.0</td>\n",
       "      <td>2400.0</td>\n",
       "    </tr>\n",
       "    <tr>\n",
       "      <th>TailNum</th>\n",
       "      <td>5419</td>\n",
       "      <td>1.20422</td>\n",
       "      <td>N485HA</td>\n",
       "      <td>NaN</td>\n",
       "      <td>NaN</td>\n",
       "      <td>NaN</td>\n",
       "      <td>NaN</td>\n",
       "      <td>NaN</td>\n",
       "      <td>NaN</td>\n",
       "      <td>NaN</td>\n",
       "    </tr>\n",
       "    <tr>\n",
       "      <th>ArrDelay</th>\n",
       "      <td>9828</td>\n",
       "      <td>2.184</td>\n",
       "      <td>-5</td>\n",
       "      <td>8.125217</td>\n",
       "      <td>38.611189</td>\n",
       "      <td>-86.0</td>\n",
       "      <td>-10.0</td>\n",
       "      <td>-2.0</td>\n",
       "      <td>12.0</td>\n",
       "      <td>1337.0</td>\n",
       "    </tr>\n",
       "  </tbody>\n",
       "</table>\n",
       "</div>"
      ],
      "text/plain": [
       "         Na Count Na Percentage    mode         mean         std   min  \\\n",
       "DepTime      8696       1.93244     555  1333.030804  477.990830   1.0   \n",
       "ArrTime      9630          2.14    1020  1480.901621  504.814718   1.0   \n",
       "TailNum      5419       1.20422  N485HA          NaN         NaN   NaN   \n",
       "ArrDelay     9828         2.184      -5     8.125217   38.611189 -86.0   \n",
       "\n",
       "             25%     50%     75%     max  \n",
       "DepTime    928.0  1325.0  1727.0  2400.0  \n",
       "ArrTime   1107.0  1512.0  1908.0  2400.0  \n",
       "TailNum      NaN     NaN     NaN     NaN  \n",
       "ArrDelay   -10.0    -2.0    12.0  1337.0  "
      ]
     },
     "metadata": {},
     "output_type": "display_data"
    }
   ],
   "source": [
    "from IPython.display import display\n",
    "import pandas as pd\n",
    "def desc_nan(df):\n",
    "    \"\"\"\n",
    "    Show a table that describe about all columns of @df that contain NaN.\n",
    "    Hien thi 1 bang mieu ta tat ca cac cot, bao gom ca NaN\n",
    "    \n",
    "    \"\"\"\n",
    "    row, col = df.shape #Get shape\n",
    "    nas = row - df.describe(include='all').T['count']\n",
    "    nas = nas[nas > 0]\n",
    "    ps = nas / row * 100\n",
    "    ms = df.mode().iloc[0]\n",
    "    nadf = pd.DataFrame(data={\n",
    "        'Na Count': nas,\n",
    "        'Na Percentage': ps,\n",
    "        'mode': ms\n",
    "    }).loc[nas.index]\n",
    "    dnadf = df.describe().T.reindex(nadf.index)\n",
    "    nadf = pd.concat([nadf, dnadf.iloc[:, 1:]], axis=1) #Noi cac du lieu cau truc pandas\n",
    "    display(nadf)\n",
    "\n",
    "desc_nan(df)"
   ]
  },
  {
   "cell_type": "markdown",
   "metadata": {},
   "source": [
    "<center>Figure: Distribution plot of all numeric columns</center>"
   ]
  },
  {
   "cell_type": "code",
   "execution_count": 96,
   "metadata": {},
   "outputs": [],
   "source": [
    "def plot_ft_dist(df, fig_height=4, no_of_col=2,verbose=True):\n",
    "    \"\"\"\n",
    "    Plot distribution of all numeric columns in df (Phan phoi bieu do cua tat ca cac cot so)\n",
    "\n",
    "    Parameters\n",
    "    ----------\n",
    "    df: pandas.DataFrame\n",
    "\n",
    "    fig_height: int\n",
    "\n",
    "    no_of_col: int\n",
    "    \"\"\"\n",
    "    df = df.copy()\n",
    "    # prepare df\n",
    "    cat_cols = list(df.dtypes[df.dtypes == 'object'].index)\n",
    "    if verbose: # Neu dai dong bo qua cac cot phan loai\n",
    "        print(\"Ignored categorical columns: \", cat_cols)\n",
    "        print(\"\")\n",
    "    df_hasnan = df.isna().any().any()\n",
    "    if df_hasnan:# \n",
    "        nan_cols = list(df.loc[:,df.isna().any()].columns)\n",
    "        df.dropna(inplace=True, axis=1)\n",
    "        if verbose:\n",
    "            print(\"dropped NaN cols:\", str(nan_cols))\n",
    "            print(\"\")\n",
    "    try:    \n",
    "        desc = df.describe().T\n",
    "        std0 = list(desc.loc[desc['std']==0].index)\n",
    "        if verbose:\n",
    "            print(\"dropped std=0 cols:\", str(std0))\n",
    "            print(\"\")\n",
    "        for col in std0:\n",
    "            del df[col]\n",
    "    except KeyError:\n",
    "        pass\n",
    "    \n",
    "    idx = df.dtypes[df.dtypes != 'object'].index\n",
    "    # prepare frame\n",
    "    f, axes = plt.subplots(\n",
    "        int(np.ceil(len(idx) / no_of_col)),\n",
    "        no_of_col,\n",
    "        figsize=(5 * no_of_col, np.ceil(len(idx) / no_of_col) * fig_height))\n",
    "    sns.set(style=\"white\", palette=\"muted\", color_codes=True)\n",
    "    n = 0\n",
    "    for i in idx:\n",
    "        sns.distplot(\n",
    "            df[i],\n",
    "            color='b',\n",
    "            hist=True,\n",
    "            kde_kws={\"shade\": True},\n",
    "            ax=axes[n // no_of_col, n % no_of_col])\n",
    "        n += 1\n",
    "    plt.show()\n",
    "    \n",
    "#plot_ft_dist(df)"
   ]
  },
  {
   "cell_type": "markdown",
   "metadata": {},
   "source": [
    "////// _Run codes above, describe what you see and start clean data / remove unimportant columns._\n",
    "\n",
    "## 2nd "
   ]
  },
  {
   "cell_type": "code",
   "execution_count": 97,
   "metadata": {},
   "outputs": [
    {
     "data": {
      "text/html": [
       "<div>\n",
       "<style scoped>\n",
       "    .dataframe tbody tr th:only-of-type {\n",
       "        vertical-align: middle;\n",
       "    }\n",
       "\n",
       "    .dataframe tbody tr th {\n",
       "        vertical-align: top;\n",
       "    }\n",
       "\n",
       "    .dataframe thead th {\n",
       "        text-align: right;\n",
       "    }\n",
       "</style>\n",
       "<table border=\"1\" class=\"dataframe\">\n",
       "  <thead>\n",
       "    <tr style=\"text-align: right;\">\n",
       "      <th></th>\n",
       "      <th>Na Count</th>\n",
       "      <th>Na Percentage</th>\n",
       "      <th>mode</th>\n",
       "      <th>mean</th>\n",
       "      <th>std</th>\n",
       "      <th>min</th>\n",
       "      <th>25%</th>\n",
       "      <th>50%</th>\n",
       "      <th>75%</th>\n",
       "      <th>max</th>\n",
       "    </tr>\n",
       "  </thead>\n",
       "  <tbody>\n",
       "    <tr>\n",
       "      <th>DepTime</th>\n",
       "      <td>8696</td>\n",
       "      <td>1.93244</td>\n",
       "      <td>555</td>\n",
       "      <td>1333.030804</td>\n",
       "      <td>477.990830</td>\n",
       "      <td>1.0</td>\n",
       "      <td>928.0</td>\n",
       "      <td>1325.0</td>\n",
       "      <td>1727.0</td>\n",
       "      <td>2400.0</td>\n",
       "    </tr>\n",
       "    <tr>\n",
       "      <th>ArrTime</th>\n",
       "      <td>9630</td>\n",
       "      <td>2.14</td>\n",
       "      <td>1020</td>\n",
       "      <td>1480.901621</td>\n",
       "      <td>504.814718</td>\n",
       "      <td>1.0</td>\n",
       "      <td>1107.0</td>\n",
       "      <td>1512.0</td>\n",
       "      <td>1908.0</td>\n",
       "      <td>2400.0</td>\n",
       "    </tr>\n",
       "    <tr>\n",
       "      <th>TailNum</th>\n",
       "      <td>5419</td>\n",
       "      <td>1.20422</td>\n",
       "      <td>N485HA</td>\n",
       "      <td>NaN</td>\n",
       "      <td>NaN</td>\n",
       "      <td>NaN</td>\n",
       "      <td>NaN</td>\n",
       "      <td>NaN</td>\n",
       "      <td>NaN</td>\n",
       "      <td>NaN</td>\n",
       "    </tr>\n",
       "    <tr>\n",
       "      <th>ArrDelay</th>\n",
       "      <td>9828</td>\n",
       "      <td>2.184</td>\n",
       "      <td>-5</td>\n",
       "      <td>8.125217</td>\n",
       "      <td>38.611189</td>\n",
       "      <td>-86.0</td>\n",
       "      <td>-10.0</td>\n",
       "      <td>-2.0</td>\n",
       "      <td>12.0</td>\n",
       "      <td>1337.0</td>\n",
       "    </tr>\n",
       "  </tbody>\n",
       "</table>\n",
       "</div>"
      ],
      "text/plain": [
       "         Na Count Na Percentage    mode         mean         std   min  \\\n",
       "DepTime      8696       1.93244     555  1333.030804  477.990830   1.0   \n",
       "ArrTime      9630          2.14    1020  1480.901621  504.814718   1.0   \n",
       "TailNum      5419       1.20422  N485HA          NaN         NaN   NaN   \n",
       "ArrDelay     9828         2.184      -5     8.125217   38.611189 -86.0   \n",
       "\n",
       "             25%     50%     75%     max  \n",
       "DepTime    928.0  1325.0  1727.0  2400.0  \n",
       "ArrTime   1107.0  1512.0  1908.0  2400.0  \n",
       "TailNum      NaN     NaN     NaN     NaN  \n",
       "ArrDelay   -10.0    -2.0    12.0  1337.0  "
      ]
     },
     "metadata": {},
     "output_type": "display_data"
    }
   ],
   "source": [
    "desc_nan(df)"
   ]
  },
  {
   "cell_type": "code",
   "execution_count": 98,
   "metadata": {},
   "outputs": [],
   "source": [
    "# drop rows where DepTime or ArrTime is na\n",
    "df.drop(df[df.DepTime.isna()].index, inplace = True)\n",
    "df.drop(df[df.ArrTime.isna()].index, inplace = True)\n",
    "df.drop(df[df.TailNum.isna()].index, inplace = True)\n",
    "df.drop(df[df.ArrDelay.isna()].index, inplace = True)"
   ]
  },
  {
   "cell_type": "code",
   "execution_count": 99,
   "metadata": {},
   "outputs": [
    {
     "name": "stdout",
     "output_type": "stream",
     "text": [
      "Ignored categorical columns:  ['UniqueCarrier', 'TailNum', 'Origin', 'Dest']\n",
      "\n",
      "dropped std=0 cols: []\n",
      "\n"
     ]
    },
    {
     "data": {
      "image/png": "[encoded data removed]",
      "text/plain": [
       "<Figure size 720x864 with 6 Axes>"
      ]
     },
     "metadata": {},
     "output_type": "display_data"
    }
   ],
   "source": [
    "plot_ft_dist(df)"
   ]
  },
  {
   "cell_type": "code",
   "execution_count": 100,
   "metadata": {},
   "outputs": [
    {
     "data": {
      "image/png": "[encoded data removed]",
      "text/plain": [
       "<Figure size 720x576 with 2 Axes>"
      ]
     },
     "metadata": {},
     "output_type": "display_data"
    }
   ],
   "source": [
    "plot_corr_matr(df)"
   ]
  },
  {
   "cell_type": "markdown",
   "metadata": {},
   "source": [
    "////////// End the 2nd request"
   ]
  },
  {
   "cell_type": "markdown",
   "metadata": {},
   "source": [
    "<center>Table: (sample) Database after cleaning</center>"
   ]
  },
  {
   "cell_type": "code",
   "execution_count": 101,
   "metadata": {
    "hide_input": false,
    "scrolled": true
   },
   "outputs": [
    {
     "data": {
      "text/html": [
       "<div>\n",
       "<style scoped>\n",
       "    .dataframe tbody tr th:only-of-type {\n",
       "        vertical-align: middle;\n",
       "    }\n",
       "\n",
       "    .dataframe tbody tr th {\n",
       "        vertical-align: top;\n",
       "    }\n",
       "\n",
       "    .dataframe thead th {\n",
       "        text-align: right;\n",
       "    }\n",
       "</style>\n",
       "<table border=\"1\" class=\"dataframe\">\n",
       "  <thead>\n",
       "    <tr style=\"text-align: right;\">\n",
       "      <th></th>\n",
       "      <th>DepTime</th>\n",
       "      <th>ArrTime</th>\n",
       "      <th>UniqueCarrier</th>\n",
       "      <th>FlightNum</th>\n",
       "      <th>TailNum</th>\n",
       "      <th>ArrDelay</th>\n",
       "      <th>Origin</th>\n",
       "      <th>Dest</th>\n",
       "      <th>Distance</th>\n",
       "    </tr>\n",
       "  </thead>\n",
       "  <tbody>\n",
       "    <tr>\n",
       "      <th>0</th>\n",
       "      <td>1118.0</td>\n",
       "      <td>1133.0</td>\n",
       "      <td>EV</td>\n",
       "      <td>4654</td>\n",
       "      <td>N981EV</td>\n",
       "      <td>17.0</td>\n",
       "      <td>ATL</td>\n",
       "      <td>MOB</td>\n",
       "      <td>302</td>\n",
       "    </tr>\n",
       "    <tr>\n",
       "      <th>1</th>\n",
       "      <td>1358.0</td>\n",
       "      <td>1953.0</td>\n",
       "      <td>CO</td>\n",
       "      <td>1848</td>\n",
       "      <td>N39343</td>\n",
       "      <td>-7.0</td>\n",
       "      <td>SJC</td>\n",
       "      <td>IAH</td>\n",
       "      <td>1608</td>\n",
       "    </tr>\n",
       "  </tbody>\n",
       "</table>\n",
       "</div>"
      ],
      "text/plain": [
       "   DepTime  ArrTime UniqueCarrier  FlightNum TailNum  ArrDelay Origin Dest  \\\n",
       "0   1118.0   1133.0            EV       4654  N981EV      17.0    ATL  MOB   \n",
       "1   1358.0   1953.0            CO       1848  N39343      -7.0    SJC  IAH   \n",
       "\n",
       "   Distance  \n",
       "0       302  \n",
       "1      1608  "
      ]
     },
     "execution_count": 101,
     "metadata": {},
     "output_type": "execute_result"
    }
   ],
   "source": [
    "df.head(2)"
   ]
  },
  {
   "cell_type": "markdown",
   "metadata": {},
   "source": [
    "## 1.3. Feature Engineering"
   ]
  },
  {
   "cell_type": "markdown",
   "metadata": {},
   "source": [
    "/////////// Give some insights, split train-test dataset\n",
    "\n",
    "\n"
   ]
  },
  {
   "cell_type": "markdown",
   "metadata": {},
   "source": [
    "### 1.3.1 Data Transformation"
   ]
  },
  {
   "cell_type": "markdown",
   "metadata": {},
   "source": [
    "__DepTime, ArrTime__ are time values which if being stored in 10-based (decimal), their true values will be distorted (hours:minutes is not continuous on 10-based).\n",
    "#=> convert to minute integer"
   ]
  },
  {
   "cell_type": "code",
   "execution_count": 102,
   "metadata": {},
   "outputs": [],
   "source": [
    "# convert column to min:\n",
    "def to_min(n):\n",
    "    n = str(int(n))\n",
    "    if len(n)<=2:\n",
    "        return int(n)\n",
    "    else:\n",
    "        return int(n[:-2])*60+int(n[2:])\n",
    "df.DepTime=df.DepTime.apply(to_min)\n",
    "df.ArrTime=df.ArrTime.apply(to_min)"
   ]
  },
  {
   "cell_type": "markdown",
   "metadata": {},
   "source": [
    "Convert all float dtype columns to int64 dtype"
   ]
  },
  {
   "cell_type": "code",
   "execution_count": 103,
   "metadata": {},
   "outputs": [],
   "source": [
    "for col in df.columns:\n",
    "    if df[col].dtype == np.float:\n",
    "        df[col] = df[col].astype(np.int64)"
   ]
  },
  {
   "cell_type": "markdown",
   "metadata": {},
   "source": [
    "<center>Table: (sample) Dataframe after dtype convertion</center>"
   ]
  },
  {
   "cell_type": "code",
   "execution_count": 104,
   "metadata": {
    "hide_input": false,
    "scrolled": true
   },
   "outputs": [
    {
     "data": {
      "text/html": [
       "<div>\n",
       "<style scoped>\n",
       "    .dataframe tbody tr th:only-of-type {\n",
       "        vertical-align: middle;\n",
       "    }\n",
       "\n",
       "    .dataframe tbody tr th {\n",
       "        vertical-align: top;\n",
       "    }\n",
       "\n",
       "    .dataframe thead th {\n",
       "        text-align: right;\n",
       "    }\n",
       "</style>\n",
       "<table border=\"1\" class=\"dataframe\">\n",
       "  <thead>\n",
       "    <tr style=\"text-align: right;\">\n",
       "      <th></th>\n",
       "      <th>DepTime</th>\n",
       "      <th>ArrTime</th>\n",
       "      <th>UniqueCarrier</th>\n",
       "      <th>FlightNum</th>\n",
       "      <th>TailNum</th>\n",
       "      <th>ArrDelay</th>\n",
       "      <th>Origin</th>\n",
       "      <th>Dest</th>\n",
       "      <th>Distance</th>\n",
       "    </tr>\n",
       "  </thead>\n",
       "  <tbody>\n",
       "    <tr>\n",
       "      <th>0</th>\n",
       "      <td>678</td>\n",
       "      <td>693</td>\n",
       "      <td>EV</td>\n",
       "      <td>4654</td>\n",
       "      <td>N981EV</td>\n",
       "      <td>17</td>\n",
       "      <td>ATL</td>\n",
       "      <td>MOB</td>\n",
       "      <td>302</td>\n",
       "    </tr>\n",
       "    <tr>\n",
       "      <th>1</th>\n",
       "      <td>838</td>\n",
       "      <td>1193</td>\n",
       "      <td>CO</td>\n",
       "      <td>1848</td>\n",
       "      <td>N39343</td>\n",
       "      <td>-7</td>\n",
       "      <td>SJC</td>\n",
       "      <td>IAH</td>\n",
       "      <td>1608</td>\n",
       "    </tr>\n",
       "    <tr>\n",
       "      <th>dtypes</th>\n",
       "      <td>int64</td>\n",
       "      <td>int64</td>\n",
       "      <td>object</td>\n",
       "      <td>int64</td>\n",
       "      <td>object</td>\n",
       "      <td>int64</td>\n",
       "      <td>object</td>\n",
       "      <td>object</td>\n",
       "      <td>int64</td>\n",
       "    </tr>\n",
       "  </tbody>\n",
       "</table>\n",
       "</div>"
      ],
      "text/plain": [
       "       DepTime ArrTime UniqueCarrier FlightNum TailNum ArrDelay  Origin  \\\n",
       "0          678     693            EV      4654  N981EV       17     ATL   \n",
       "1          838    1193            CO      1848  N39343       -7     SJC   \n",
       "dtypes   int64   int64        object     int64  object    int64  object   \n",
       "\n",
       "          Dest Distance  \n",
       "0          MOB      302  \n",
       "1          IAH     1608  \n",
       "dtypes  object    int64  "
      ]
     },
     "execution_count": 104,
     "metadata": {},
     "output_type": "execute_result"
    }
   ],
   "source": [
    "dtypes = pd.Series(df.dtypes,name='dtypes')\n",
    "df.head(2).append(dtypes)"
   ]
  },
  {
   "cell_type": "markdown",
   "metadata": {},
   "source": [
    "### 1.3.2. One-hot-encoding"
   ]
  },
  {
   "cell_type": "markdown",
   "metadata": {},
   "source": [
    "In order to pick which feature to use One-hot-encoding, we see how many unique data in each category data, then use boxplot to check the variation of ArrDelay by those features.\n",
    "<br><br>\n",
    "<center>Table: Unique value from each categorial feature</center>"
   ]
  },
  {
   "cell_type": "code",
   "execution_count": 105,
   "metadata": {
    "hide_input": false
   },
   "outputs": [
    {
     "data": {
      "text/html": [
       "<div>\n",
       "<style scoped>\n",
       "    .dataframe tbody tr th:only-of-type {\n",
       "        vertical-align: middle;\n",
       "    }\n",
       "\n",
       "    .dataframe tbody tr th {\n",
       "        vertical-align: top;\n",
       "    }\n",
       "\n",
       "    .dataframe thead th {\n",
       "        text-align: right;\n",
       "    }\n",
       "</style>\n",
       "<table border=\"1\" class=\"dataframe\">\n",
       "  <thead>\n",
       "    <tr style=\"text-align: right;\">\n",
       "      <th></th>\n",
       "      <th>UniqueCarrier</th>\n",
       "      <th>TailNum</th>\n",
       "      <th>Origin</th>\n",
       "      <th>Dest</th>\n",
       "    </tr>\n",
       "  </thead>\n",
       "  <tbody>\n",
       "    <tr>\n",
       "      <th>unique</th>\n",
       "      <td>20</td>\n",
       "      <td>5295</td>\n",
       "      <td>301</td>\n",
       "      <td>301</td>\n",
       "    </tr>\n",
       "  </tbody>\n",
       "</table>\n",
       "</div>"
      ],
      "text/plain": [
       "       UniqueCarrier TailNum Origin Dest\n",
       "unique            20    5295    301  301"
      ]
     },
     "execution_count": 105,
     "metadata": {},
     "output_type": "execute_result"
    }
   ],
   "source": [
    "pd.DataFrame(df.describe(include=\"O\").loc['unique']).T"
   ]
  },
  {
   "cell_type": "markdown",
   "metadata": {},
   "source": [
    "/////// _start your code below to one hot encode or label encoding categorical features_\n",
    "\n",
    "## 3rd\n",
    "\n",
    "\n"
   ]
  },
  {
   "cell_type": "code",
   "execution_count": 106,
   "metadata": {},
   "outputs": [
    {
     "data": {
      "image/png": "[encoded data removed]",
      "text/plain": [
       "<Figure size 720x720 with 4 Axes>"
      ]
     },
     "metadata": {},
     "output_type": "display_data"
    }
   ],
   "source": [
    "sns.set(style=\"white\")\n",
    "f, ((ax1, ax2),(ax3, ax4)) = plt.subplots(2,2,sharex=True, squeeze=True, \n",
    "                                figsize=(10,10))\n",
    "\n",
    "sns.boxplot(x=\"ArrDelay\", y=\"UniqueCarrier\", data=df,\n",
    "            whis=np.inf, palette=\"vlag\",ax=ax1)\n",
    "\n",
    "sns.boxplot(x=\"ArrDelay\", y=\"TailNum\", data=df,\n",
    "            whis=np.inf, palette=\"vlag\",ax=ax2)\n",
    "\n",
    "sns.boxplot(x=\"ArrDelay\", y=\"Origin\", data=df,\n",
    "            whis=np.inf, palette=\"vlag\",ax=ax3)\n",
    "\n",
    "sns.boxplot(x=\"ArrDelay\", y=\"Dest\", data=df,\n",
    "            whis=np.inf, palette=\"vlag\", ax=ax4)\n",
    "plt.show()"
   ]
  },
  {
   "cell_type": "markdown",
   "metadata": {},
   "source": [
    "We assume that each __TailNum__ belongs to 1 __UniqueCarrier__. How late a flight is seems to more dependent on __UniqueCarrier__ than the __TailNum__. But we need to check this hypothesis by showing if there is any __TailNum__ that is NOT operated by 1 __UniqueCarrier__.\n",
    "<br><br>\n",
    "<center>Table: TailNum that is not operated by one UniqueCarrie</center>"
   ]
  },
  {
   "cell_type": "code",
   "execution_count": 107,
   "metadata": {},
   "outputs": [
    {
     "data": {
      "text/html": [
       "<div>\n",
       "<style scoped>\n",
       "    .dataframe tbody tr th:only-of-type {\n",
       "        vertical-align: middle;\n",
       "    }\n",
       "\n",
       "    .dataframe tbody tr th {\n",
       "        vertical-align: top;\n",
       "    }\n",
       "\n",
       "    .dataframe thead th {\n",
       "        text-align: right;\n",
       "    }\n",
       "</style>\n",
       "<table border=\"1\" class=\"dataframe\">\n",
       "  <thead>\n",
       "    <tr style=\"text-align: right;\">\n",
       "      <th></th>\n",
       "      <th>UniqueCarrier</th>\n",
       "    </tr>\n",
       "    <tr>\n",
       "      <th>TailNum</th>\n",
       "      <th></th>\n",
       "    </tr>\n",
       "  </thead>\n",
       "  <tbody>\n",
       "    <tr>\n",
       "      <th>N376CA</th>\n",
       "      <td>[EV, OH]</td>\n",
       "    </tr>\n",
       "    <tr>\n",
       "      <th>N379CA</th>\n",
       "      <td>[EV, OH]</td>\n",
       "    </tr>\n",
       "  </tbody>\n",
       "</table>\n",
       "</div>"
      ],
      "text/plain": [
       "        UniqueCarrier\n",
       "TailNum              \n",
       "N376CA       [EV, OH]\n",
       "N379CA       [EV, OH]"
      ]
     },
     "execution_count": 107,
     "metadata": {},
     "output_type": "execute_result"
    }
   ],
   "source": [
    "# Check if there is any TailNum that belongs to 2 UniqueCarriers\n",
    "pd.DataFrame(df.groupby('TailNum').UniqueCarrier.unique()\n",
    "                [df.groupby('TailNum').UniqueCarrier.unique()\n",
    "                     .apply(lambda x: len(x)!=1)])"
   ]
  },
  {
   "cell_type": "markdown",
   "metadata": {},
   "source": [
    "The table rejects our hypothesis, but it shows only 2 instances of __TailNum__.\n",
    "The total number of records of N376CA and N379CA is 3171/6855024 (0.0462%) which is a very small affect (if any) on the prediction result. In addition, the amount of unique __TailNum__ is too large (5366) that might result in not having enough samples for each unique __TailNum__ (which makes the result more unreliable)\n",
    "\n",
    "__Origin__ or __Dest__ can be reliable predictors but currently we skip these rows for computational benefits.\n",
    "\n",
    "After finish analyzing those 4 categorial features, only 1 column to one-hot-encode is __UniqueCarrier__."
   ]
  },
  {
   "cell_type": "code",
   "execution_count": 108,
   "metadata": {},
   "outputs": [],
   "source": [
    "# one-hot-encode UniqueCarrier column\n",
    "carrier = pd.get_dummies(df.UniqueCarrier)\n",
    "carrier.reset_index(drop=True, inplace=True)"
   ]
  },
  {
   "cell_type": "markdown",
   "metadata": {},
   "source": [
    "////////// End the 3rd request"
   ]
  },
  {
   "cell_type": "markdown",
   "metadata": {},
   "source": [
    "## 2.2. Normalize data"
   ]
  },
  {
   "cell_type": "markdown",
   "metadata": {},
   "source": [
    "/////// _normalize / scale your data to range [0,1]\n",
    "\n",
    "## 4th\n",
    "\n"
   ]
  },
  {
   "cell_type": "markdown",
   "metadata": {},
   "source": [
    "Because of feature scaling, new table of normalized data (in range [0,1]) is needed."
   ]
  },
  {
   "cell_type": "code",
   "execution_count": 109,
   "metadata": {},
   "outputs": [],
   "source": [
    "# delete categorical data:\n",
    "for col in df.columns:\n",
    "    if df[col].dtype == np.object:\n",
    "        del df[col]\n",
    "\n",
    "# Normalize the df\n",
    "from sklearn import preprocessing\n",
    "min_max_scaler = preprocessing.MinMaxScaler()\n",
    "X = min_max_scaler.fit_transform(df)\n",
    "X = pd.DataFrame(X, columns=df.columns)"
   ]
  },
  {
   "cell_type": "code",
   "execution_count": 110,
   "metadata": {},
   "outputs": [],
   "source": [
    "# combine normalized data with one-hot-encoded columns\n",
    "X = X.join(carrier)"
   ]
  },
  {
   "cell_type": "code",
   "execution_count": 111,
   "metadata": {},
   "outputs": [],
   "source": [
    "# assign ArrDelay in format of boolean, True if ArrDelay > 30 minutes\n",
    "Y = df.ArrDelay>30\n",
    "Y.reset_index(drop=True, inplace=True)\n",
    "del df['ArrDelay']"
   ]
  },
  {
   "cell_type": "markdown",
   "metadata": {},
   "source": [
    "////////// End the 4th request"
   ]
  },
  {
   "cell_type": "markdown",
   "metadata": {},
   "source": [
    "<center>Table: (sample) Predictor X (without PCA)"
   ]
  },
  {
   "cell_type": "code",
   "execution_count": 112,
   "metadata": {
    "hide_input": true,
    "scrolled": false
   },
   "outputs": [
    {
     "data": {
      "text/html": [
       "<div>\n",
       "<style scoped>\n",
       "    .dataframe tbody tr th:only-of-type {\n",
       "        vertical-align: middle;\n",
       "    }\n",
       "\n",
       "    .dataframe tbody tr th {\n",
       "        vertical-align: top;\n",
       "    }\n",
       "\n",
       "    .dataframe thead th {\n",
       "        text-align: right;\n",
       "    }\n",
       "</style>\n",
       "<table border=\"1\" class=\"dataframe\">\n",
       "  <thead>\n",
       "    <tr style=\"text-align: right;\">\n",
       "      <th></th>\n",
       "      <th>DepTime</th>\n",
       "      <th>ArrTime</th>\n",
       "      <th>FlightNum</th>\n",
       "      <th>ArrDelay</th>\n",
       "      <th>Distance</th>\n",
       "      <th>9E</th>\n",
       "      <th>AA</th>\n",
       "      <th>AQ</th>\n",
       "      <th>AS</th>\n",
       "      <th>B6</th>\n",
       "      <th>CO</th>\n",
       "      <th>DL</th>\n",
       "      <th>EV</th>\n",
       "      <th>F9</th>\n",
       "      <th>FL</th>\n",
       "      <th>HA</th>\n",
       "      <th>MQ</th>\n",
       "      <th>NW</th>\n",
       "      <th>OH</th>\n",
       "      <th>OO</th>\n",
       "      <th>UA</th>\n",
       "      <th>US</th>\n",
       "      <th>WN</th>\n",
       "      <th>XE</th>\n",
       "      <th>YV</th>\n",
       "    </tr>\n",
       "  </thead>\n",
       "  <tbody>\n",
       "    <tr>\n",
       "      <th>0</th>\n",
       "      <td>0.470466</td>\n",
       "      <td>0.480890</td>\n",
       "      <td>0.594405</td>\n",
       "      <td>0.072382</td>\n",
       "      <td>0.056298</td>\n",
       "      <td>0</td>\n",
       "      <td>0</td>\n",
       "      <td>0</td>\n",
       "      <td>0</td>\n",
       "      <td>0</td>\n",
       "      <td>0</td>\n",
       "      <td>0</td>\n",
       "      <td>1</td>\n",
       "      <td>0</td>\n",
       "      <td>0</td>\n",
       "      <td>0</td>\n",
       "      <td>0</td>\n",
       "      <td>0</td>\n",
       "      <td>0</td>\n",
       "      <td>0</td>\n",
       "      <td>0</td>\n",
       "      <td>0</td>\n",
       "      <td>0</td>\n",
       "      <td>0</td>\n",
       "      <td>0</td>\n",
       "    </tr>\n",
       "    <tr>\n",
       "      <th>1</th>\n",
       "      <td>0.581654</td>\n",
       "      <td>0.828353</td>\n",
       "      <td>0.235948</td>\n",
       "      <td>0.055517</td>\n",
       "      <td>0.320778</td>\n",
       "      <td>0</td>\n",
       "      <td>0</td>\n",
       "      <td>0</td>\n",
       "      <td>0</td>\n",
       "      <td>0</td>\n",
       "      <td>1</td>\n",
       "      <td>0</td>\n",
       "      <td>0</td>\n",
       "      <td>0</td>\n",
       "      <td>0</td>\n",
       "      <td>0</td>\n",
       "      <td>0</td>\n",
       "      <td>0</td>\n",
       "      <td>0</td>\n",
       "      <td>0</td>\n",
       "      <td>0</td>\n",
       "      <td>0</td>\n",
       "      <td>0</td>\n",
       "      <td>0</td>\n",
       "      <td>0</td>\n",
       "    </tr>\n",
       "  </tbody>\n",
       "</table>\n",
       "</div>"
      ],
      "text/plain": [
       "    DepTime   ArrTime  FlightNum  ArrDelay  Distance  9E  AA  AQ  AS  B6  CO  \\\n",
       "0  0.470466  0.480890   0.594405  0.072382  0.056298   0   0   0   0   0   0   \n",
       "1  0.581654  0.828353   0.235948  0.055517  0.320778   0   0   0   0   0   1   \n",
       "\n",
       "   DL  EV  F9  FL  HA  MQ  NW  OH  OO  UA  US  WN  XE  YV  \n",
       "0   0   1   0   0   0   0   0   0   0   0   0   0   0   0  \n",
       "1   0   0   0   0   0   0   0   0   0   0   0   0   0   0  "
      ]
     },
     "execution_count": 112,
     "metadata": {},
     "output_type": "execute_result"
    }
   ],
   "source": [
    "X[:2]"
   ]
  },
  {
   "cell_type": "markdown",
   "metadata": {},
   "source": [
    "## 2.3. PCA"
   ]
  },
  {
   "cell_type": "markdown",
   "metadata": {},
   "source": [
    "<center>Figure: Explaination ratio though dimensions using PCA and Cumulative explained variance table in details</center>"
   ]
  },
  {
   "cell_type": "code",
   "execution_count": 113,
   "metadata": {
    "scrolled": false
   },
   "outputs": [
    {
     "data": {
      "image/png": "[encoded data removed]",
      "text/plain": [
       "<Figure size 432x288 with 1 Axes>"
      ]
     },
     "metadata": {},
     "output_type": "display_data"
    },
    {
     "data": {
      "text/html": [
       "<div>\n",
       "<style scoped>\n",
       "    .dataframe tbody tr th:only-of-type {\n",
       "        vertical-align: middle;\n",
       "    }\n",
       "\n",
       "    .dataframe tbody tr th {\n",
       "        vertical-align: top;\n",
       "    }\n",
       "\n",
       "    .dataframe thead th {\n",
       "        text-align: right;\n",
       "    }\n",
       "</style>\n",
       "<table border=\"1\" class=\"dataframe\">\n",
       "  <thead>\n",
       "    <tr style=\"text-align: right;\">\n",
       "      <th></th>\n",
       "      <th>dim 1</th>\n",
       "      <th>dim 2</th>\n",
       "      <th>dim 3</th>\n",
       "      <th>dim 4</th>\n",
       "      <th>dim 5</th>\n",
       "      <th>dim 6</th>\n",
       "      <th>dim 7</th>\n",
       "      <th>dim 8</th>\n",
       "      <th>dim 9</th>\n",
       "      <th>dim 10</th>\n",
       "      <th>dim 11</th>\n",
       "      <th>dim 12</th>\n",
       "      <th>dim 13</th>\n",
       "      <th>dim 14</th>\n",
       "      <th>dim 15</th>\n",
       "      <th>dim 16</th>\n",
       "      <th>dim 17</th>\n",
       "      <th>dim 18</th>\n",
       "      <th>dim 19</th>\n",
       "      <th>dim 20</th>\n",
       "      <th>dim 21</th>\n",
       "      <th>dim 22</th>\n",
       "      <th>dim 23</th>\n",
       "      <th>dim 24</th>\n",
       "      <th>dim 25</th>\n",
       "    </tr>\n",
       "  </thead>\n",
       "  <tbody>\n",
       "    <tr>\n",
       "      <th>0</th>\n",
       "      <td>0.14367</td>\n",
       "      <td>0.249683</td>\n",
       "      <td>0.32389</td>\n",
       "      <td>0.393913</td>\n",
       "      <td>0.460072</td>\n",
       "      <td>0.519662</td>\n",
       "      <td>0.579059</td>\n",
       "      <td>0.631625</td>\n",
       "      <td>0.680376</td>\n",
       "      <td>0.725793</td>\n",
       "      <td>0.767565</td>\n",
       "      <td>0.804265</td>\n",
       "      <td>0.839812</td>\n",
       "      <td>0.872987</td>\n",
       "      <td>0.900893</td>\n",
       "      <td>0.927966</td>\n",
       "      <td>0.94916</td>\n",
       "      <td>0.963097</td>\n",
       "      <td>0.97454</td>\n",
       "      <td>0.984182</td>\n",
       "      <td>0.99261</td>\n",
       "      <td>0.998208</td>\n",
       "      <td>0.999356</td>\n",
       "      <td>1.0</td>\n",
       "      <td>1.0</td>\n",
       "    </tr>\n",
       "  </tbody>\n",
       "</table>\n",
       "</div>"
      ],
      "text/plain": [
       "     dim 1     dim 2    dim 3     dim 4     dim 5     dim 6     dim 7  \\\n",
       "0  0.14367  0.249683  0.32389  0.393913  0.460072  0.519662  0.579059   \n",
       "\n",
       "      dim 8     dim 9    dim 10    dim 11    dim 12    dim 13    dim 14  \\\n",
       "0  0.631625  0.680376  0.725793  0.767565  0.804265  0.839812  0.872987   \n",
       "\n",
       "     dim 15    dim 16   dim 17    dim 18   dim 19    dim 20   dim 21  \\\n",
       "0  0.900893  0.927966  0.94916  0.963097  0.97454  0.984182  0.99261   \n",
       "\n",
       "     dim 22    dim 23  dim 24  dim 25  \n",
       "0  0.998208  0.999356     1.0     1.0  "
      ]
     },
     "metadata": {},
     "output_type": "display_data"
    }
   ],
   "source": [
    "def plot_PCA(df):\n",
    "    \"\"\"\n",
    "    Show the \"PCA ladder\" in order to pick the right\n",
    "\n",
    "    Parameters\n",
    "    ----------\n",
    "    df: pandas.DataFrame\n",
    "\n",
    "    fig_height: int\n",
    "\n",
    "    no_of_col: int\n",
    "    \"\"\"\n",
    "    from sklearn.decomposition import PCA\n",
    "\n",
    "    pca = PCA(n_components=len(df.columns))\n",
    "    pca.fit_transform(df)\n",
    "    # put data (predictor only) to pca and create pcadf\n",
    "    ratio = pca.explained_variance_ratio_\n",
    "\n",
    "    tot = sum(ratio)\n",
    "    var_exp = [(i / tot) for i in ratio]\n",
    "    cum_var_exp = np.cumsum(var_exp)\n",
    "\n",
    "    plt.bar(\n",
    "        range(0, len(df.columns)),\n",
    "        var_exp,\n",
    "        alpha=0.5,\n",
    "        align='center',\n",
    "        label='individual explained variance')\n",
    "    plt.step(\n",
    "        range(0, len(df.columns)),\n",
    "        cum_var_exp,\n",
    "        where='mid',\n",
    "        label='cumulative expalined variance')\n",
    "    plt.ylabel = 'Explained variance ratio'\n",
    "    plt.xlabel = 'Pricipal components'\n",
    "    plt.legend(loc='best')\n",
    "    plt.show()\n",
    "\n",
    "    # show table with more details\n",
    "    pdf = pd.DataFrame(\n",
    "        [cum_var_exp],\n",
    "        columns=[\"dim {}\".format(i) for i in range(1,\n",
    "                                                   len(df.columns) + 1)])\n",
    "    display(pdf)\n",
    "    \n",
    "    \n",
    "plot_PCA(X)"
   ]
  },
  {
   "cell_type": "markdown",
   "metadata": {},
   "source": [
    "//////////// the code below has \"n\" as dimensions to reduce to, decide that number so the total explation ratio > 0.95\n",
    "\n",
    "## 5th\n",
    "\n",
    "\n"
   ]
  },
  {
   "cell_type": "code",
   "execution_count": 114,
   "metadata": {},
   "outputs": [],
   "source": [
    "from sklearn.decomposition import PCA\n",
    "# create a PCA to reduce dimension to n\n",
    "n = 18\n",
    "pca = PCA(n_components=n)\n",
    "# put data (predictor only) to pca and create pcadf\n",
    "X = pd.DataFrame(pca.fit_transform(X))"
   ]
  },
  {
   "cell_type": "code",
   "execution_count": 115,
   "metadata": {},
   "outputs": [
    {
     "ename": "SyntaxError",
     "evalue": "invalid syntax (<ipython-input-115-f87d4508cd93>, line 2)",
     "output_type": "error",
     "traceback": [
      "\u001b[1;36m  File \u001b[1;32m\"<ipython-input-115-f87d4508cd93>\"\u001b[1;36m, line \u001b[1;32m2\u001b[0m\n\u001b[1;33m    x_tune = X.sample(n=100_000, random_state=25)\u001b[0m\n\u001b[1;37m                              ^\u001b[0m\n\u001b[1;31mSyntaxError\u001b[0m\u001b[1;31m:\u001b[0m invalid syntax\n"
     ]
    }
   ],
   "source": [
    "# get random 100_000 samples records from full dataset to tune\n",
    "x_tune = X.sample(n=100_000, random_state=25)\n",
    "y_tune = Y.sample(n=100_000, random_state=25)\n",
    "\n",
    "# get random 1_250_000 samples records from full dataset\n",
    "# that differ from the x_100k and y_100k\n",
    "x = (X[~X.index.isin(x_tune.index)]\n",
    "        .sample(n=1_250_000, random_state=25))\n",
    "y = (Y[~Y.index.isin(x_tune.index)]\n",
    "        .sample(n=1_250_000, random_state=25))"
   ]
  },
  {
   "cell_type": "code",
   "execution_count": null,
   "metadata": {},
   "outputs": [],
   "source": [
    "# prepare the train and test data.\n",
    "from sklearn.model_selection import train_test_split\n",
    "x_train, x_test, y_train, y_test = train_test_split(\n",
    "                        x, y, test_size=0.2, random_state=25)"
   ]
  },
  {
   "cell_type": "markdown",
   "metadata": {},
   "source": [
    "//////// End the 5th request"
   ]
  },
  {
   "cell_type": "code",
   "execution_count": null,
   "metadata": {},
   "outputs": [],
   "source": [
    "# Save processed database to a csv file\n",
    "import os\n",
    "os.chdir(r'.\\working_database')\n",
    "\n",
    "x_tune.to_csv('x_tune.csv')\n",
    "pd.DataFrame(y_tune).to_csv('y_tune.csv')\n",
    "x_train.to_csv('x_train.csv')\n",
    "pd.DataFrame(y_train).to_csv('y_train.csv')\n",
    "x_test.to_csv('x_test.csv')\n",
    "pd.DataFrame(y_test).to_csv('y_test.csv')\n",
    "\n",
    "os.chdir('..')"
   ]
  },
  {
   "cell_type": "markdown",
   "metadata": {},
   "source": [
    "# 3. Classification Models"
   ]
  },
  {
   "cell_type": "code",
   "execution_count": null,
   "metadata": {},
   "outputs": [],
   "source": [
    "# import neccessary libraries\n",
    "import numpy as np\n",
    "import pandas as pd\n",
    "import seaborn as sns\n",
    "import matplotlib.pyplot as plt\n",
    "\n",
    "# show plot intermediately under the calling cell\n",
    "%matplotlib inline\n",
    "\n",
    "# disable some warnings\n",
    "import warnings\n",
    "warnings.simplefilter(action = \"ignore\")\n",
    "\n",
    "# set to unlimited column display:\n",
    "pd.set_option('display.max_columns', None)\n",
    "\n",
    "# Load processed database from a csv file\n",
    "import os\n",
    "os.chdir(r'.\\working_database')\n",
    "\n",
    "x_tune = pd.read_csv('x_tune.csv', index_col=0)\n",
    "y_tune = pd.read_csv('y_tune.csv', index_col=0)\n",
    "x_train = pd.read_csv('x_train.csv', index_col=0)\n",
    "y_train = pd.read_csv('y_train.csv', index_col=0)\n",
    "x_test = pd.read_csv('x_test.csv', index_col=0)\n",
    "y_test = pd.read_csv('y_test.csv', index_col=0)\n",
    "\n",
    "os.chdir('..')"
   ]
  },
  {
   "cell_type": "markdown",
   "metadata": {},
   "source": [
    "The following model will use default parameters and sample classification report"
   ]
  },
  {
   "cell_type": "markdown",
   "metadata": {},
   "source": [
    "## 3.1. Naive Bayes"
   ]
  },
  {
   "cell_type": "markdown",
   "metadata": {},
   "source": [
    "Initialize the model and fit the train database"
   ]
  },
  {
   "cell_type": "code",
   "execution_count": null,
   "metadata": {
    "scrolled": true
   },
   "outputs": [],
   "source": [
    "from sklearn.naive_bayes import GaussianNB\n",
    "nb = GaussianNB()\n",
    "nb.fit(x_train, y_train)"
   ]
  },
  {
   "cell_type": "code",
   "execution_count": null,
   "metadata": {
    "scrolled": true
   },
   "outputs": [],
   "source": [
    "from sklearn.metrics import classification_report\n",
    "print('Classification_report: \\n', \n",
    "      classification_report(\n",
    "          y_true=y_test,\n",
    "          y_pred=nb.predict(x_test)))"
   ]
  },
  {
   "cell_type": "markdown",
   "metadata": {},
   "source": [
    "////// Search google for \"sklearn logistics regression\" / decision tree / svm and figure out how to work on below parts\n",
    "\n",
    "## 6th\n",
    "\n"
   ]
  },
  {
   "cell_type": "markdown",
   "metadata": {},
   "source": [
    "## 3.2. Logistics Regression"
   ]
  },
  {
   "cell_type": "code",
   "execution_count": null,
   "metadata": {},
   "outputs": [],
   "source": [
    "from sklearn.linear_model import LogisticRegression\n",
    "lr = LogisticRegression(penalty='l2', # 'l1'\n",
    "                        C = 1.0) # float"
   ]
  },
  {
   "cell_type": "code",
   "execution_count": null,
   "metadata": {},
   "outputs": [],
   "source": [
    "from sklearn.model_selection import GridSearchCV\n",
    "# Defind the parameter values that should be searched\n",
    "C_list = [0.1, 1, 10, 100, 1000]\n",
    "penalty_list = ['l1','l2']\n",
    "solver_list = ['newton-cg', 'lbfgs', 'liblinear', 'sag', 'saga']\n",
    "\n",
    "# Create a parameter grid: map the parameter names to the\n",
    "# values that should be searched:\n",
    "param_grid = dict(C=C_list,\n",
    "                 penalty=penalty_list,\n",
    "                 solver=solver_list)\n",
    "# Instantiate the grid:\n",
    "grid = GridSearchCV(lr, param_grid, cv=10, error_score=0.0,\n",
    "                    scoring='f1_weighted', n_jobs=16)\n",
    "\n",
    "# fit the grid with data\n",
    "grid.fit(x_tune, y_tune)\n",
    "\n",
    "# examine the best model\n",
    "print(grid.best_score_)\n",
    "print(grid.best_params_)\n",
    "\n",
    "# gre = Gridsearchcv REsult\n",
    "gre = pd.DataFrame(grid.cv_results_)\n",
    "(gre.loc[gre.mean_test_score!=0] # skip zero scored rows\n",
    "     [['rank_test_score','mean_fit_time','mean_test_score'] # get these col\n",
    "          +['param_{}'.format(i) for i in grid.best_params_.keys()]]\n",
    "    .sort_values('rank_test_score')) # sort by rank"
   ]
  },
  {
   "cell_type": "code",
   "execution_count": null,
   "metadata": {},
   "outputs": [],
   "source": [
    "from sklearn.linear_model import LogisticRegression\n",
    "lr = LogisticRegression(C=0.1,\n",
    "                        penalty='l1',\n",
    "                        solver='liblinear')\n",
    "lr.fit(x_train, y_train)\n",
    "\n",
    "from sklearn.metrics import classification_report\n",
    "print('Classification_report: \\n', \n",
    "      classification_report(\n",
    "          y_true=y_test,\n",
    "          y_pred=lr.predict(x_test)))"
   ]
  },
  {
   "cell_type": "markdown",
   "metadata": {},
   "source": [
    "## 3.3. Decision Tree"
   ]
  },
  {
   "cell_type": "code",
   "execution_count": null,
   "metadata": {},
   "outputs": [],
   "source": [
    "from sklearn.tree import DecisionTreeClassifier\n",
    "tree = DecisionTreeClassifier(criterion='gini', # 'entropy'\n",
    "                             min_samples_leaf=1, # float\n",
    "                             class_weight=None # 'balance'\n",
    "                             ) \n",
    "# tree.fit(x_train, y_train)"
   ]
  },
  {
   "cell_type": "code",
   "execution_count": null,
   "metadata": {},
   "outputs": [],
   "source": [
    "from sklearn.model_selection import GridSearchCV\n",
    "# Defind the parameter values that should be searched\n",
    "criterion_list = ['gini','entropy']\n",
    "min_samples_leaf_list = [1,2,4,6,8,10]\n",
    "class_weight_list = [None,'balanced']\n",
    "# Create a parameter grid: map the parameter names to the\n",
    "# values that should be searched:\n",
    "param_grid = dict(criterion=criterion_list,\n",
    "                 min_samples_leaf=min_samples_leaf_list,\n",
    "                 class_weight=class_weight_list)\n",
    "\n",
    "# Instantiate the grid:\n",
    "grid = GridSearchCV(tree, param_grid, cv=10, \n",
    "                    scoring='f1_weighted', n_jobs=16)\n",
    "\n",
    "# fit the grid with data\n",
    "grid.fit(x_tune, y_tune)\n",
    "\n",
    "# examine the best model\n",
    "print(grid.best_score_)\n",
    "print(grid.best_params_)\n",
    "\n",
    "# gre = Gridsearchcv REsult\n",
    "gre = pd.DataFrame(grid.cv_results_)\n",
    "(gre.loc[gre.mean_test_score!=0] # skip zero scored rows\n",
    "     [['rank_test_score','mean_fit_time','mean_test_score'] # get these col\n",
    "          +['param_{}'.format(i) for i in grid.best_params_.keys()]]\n",
    "    .sort_values('rank_test_score')) # sort by rank"
   ]
  },
  {
   "cell_type": "code",
   "execution_count": null,
   "metadata": {},
   "outputs": [],
   "source": [
    "from sklearn.tree import DecisionTreeClassifier\n",
    "tree = DecisionTreeClassifier(criterion='entropy',\n",
    "                              min_samples_leaf=2,\n",
    "                              class_weight=None)\n",
    "                              \n",
    "tree.fit(x_train, y_train)\n",
    "\n",
    "from sklearn.metrics import classification_report\n",
    "print('Classification_report: \\n', \n",
    "      classification_report(\n",
    "          y_true=y_test,\n",
    "          y_pred=nb.predict(x_test)))"
   ]
  },
  {
   "cell_type": "markdown",
   "metadata": {},
   "source": [
    "## 3.4. SVM"
   ]
  },
  {
   "cell_type": "code",
   "execution_count": null,
   "metadata": {},
   "outputs": [],
   "source": [
    "from sklearn.svm import SVC\n",
    "svm = SVC(C = 1.0,       # float\n",
    "         kernel = 'rbf', # 'linear','poly', 'sigmoid'\n",
    "         gamma = 'auto') # float\n",
    "# svm.fit(x_train, y_train)"
   ]
  },
  {
   "cell_type": "code",
   "execution_count": null,
   "metadata": {},
   "outputs": [],
   "source": [
    "from sklearn.model_selection import RandomizedSearchCV\n",
    "# Defind the parameter values that should be searched\n",
    "C_list = [1,10,100,1000]\n",
    "kernel_list = ['rbf','linear','poly','sigmoid']\n",
    "gamma_list = ['auto', 10, 0.2]\n",
    "# Create a parameter grid: map the parameter names to the\n",
    "# values that should be searched:\n",
    "param_grid = dict(C=C_list,\n",
    "                  kernel=kernel_list,\n",
    "                  gamma=gamma_list)\n",
    "\n",
    "# Instantiate the rand:\n",
    "rand = RandomizedSearchCV(svm, param_grid, cv=5, \n",
    "                         scoring='f1_weighted', n_jobs=16,\n",
    "                         n_iter=5, random_state=25)\n",
    "\n",
    "# fit the rand with data\n",
    "rand.fit(x_tune, y_tune)\n",
    "\n",
    "# examine the best model\n",
    "print(rand.best_score_)\n",
    "print(rand.best_params_)\n",
    "\n",
    "# gre = Gridsearchcv REsult\n",
    "gre = pd.DataFrame(rand.cv_results_)\n",
    "(gre.loc[gre.mean_test_score!=0] # skip zero scored rows\n",
    "     [['rank_test_score','mean_fit_time','mean_test_score'] # get these col\n",
    "          +['param_{}'.format(i) for i in rand.best_params_.keys()]]\n",
    "    .sort_values('rank_test_score')) # sort by rank"
   ]
  },
  {
   "cell_type": "code",
   "execution_count": null,
   "metadata": {},
   "outputs": [],
   "source": [
    "from sklearn.svm import SVC\n",
    "svm = SVC(kernel='rbf')               \n",
    "svm.fit(x_train, y_train)\n",
    "\n",
    "from sklearn.metrics import classification_report\n",
    "print('Classification_report: \\n', \n",
    "      classification_report(\n",
    "          y_true=y_test,\n",
    "          y_pred=svm.predict(x_test)))"
   ]
  },
  {
   "cell_type": "markdown",
   "metadata": {},
   "source": [
    "////////// End the 6th request"
   ]
  },
  {
   "cell_type": "markdown",
   "metadata": {},
   "source": [
    "# Z. Other\n",
    "Additional parts"
   ]
  },
  {
   "cell_type": "markdown",
   "metadata": {},
   "source": [
    "## Z.1. Pickle"
   ]
  },
  {
   "cell_type": "code",
   "execution_count": null,
   "metadata": {},
   "outputs": [],
   "source": [
    "# Save a model into a pickle file.\n",
    "import pickle\n",
    "import os\n",
    "os.chdir(r'.\\saved_models')\n",
    "pickle.dump(svm, open( \"svm.model\", \"wb\" ) )\n",
    "os.chdir('..')"
   ]
  },
  {
   "cell_type": "code",
   "execution_count": null,
   "metadata": {},
   "outputs": [],
   "source": [
    "# Load the model back from the pickle file.\n",
    "import pickle\n",
    "import os\n",
    "os.chdir(r'.\\saved_models')\n",
    "lr = pickle.load(open(\"lr.model\", \"rb\"))\n",
    "nb = pickle.load(open(\"nb.model\", \"rb\"))\n",
    "rf = pickle.load(open(\"rf.model\", \"rb\"))\n",
    "tree = pickle.load(open(\"tree.model\", \"rb\"))\n",
    "svm = pickle.load(open(\"svm.model\", \"rb\"))\n",
    "os.chdir('..')"
   ]
  }
 ],
 "metadata": {
  "hide_input": false,
  "kernelspec": {
   "display_name": "Python 3",
   "language": "python",
   "name": "python3"
  },
  "language_info": {
   "codemirror_mode": {
    "name": "ipython",
    "version": 3
   },
   "file_extension": ".py",
   "mimetype": "text/x-python",
   "name": "python",
   "nbconvert_exporter": "python",
   "pygments_lexer": "ipython3",
   "version": "3.5.4"
  },
  "toc": {
   "base_numbering": 1,
   "nav_menu": {},
   "number_sections": false,
   "sideBar": true,
   "skip_h1_title": false,
   "title_cell": "Table of Contents",
   "title_sidebar": "Contents",
   "toc_cell": false,
   "toc_position": {
    "height": "calc(100% - 180px)",
    "left": "10px",
    "top": "150px",
    "width": "165px"
   },
   "toc_section_display": true,
   "toc_window_display": true
  },
  "varInspector": {
   "cols": {
    "lenName": 16,
    "lenType": 16,
    "lenVar": 40
   },
   "kernels_config": {
    "python": {
     "delete_cmd_postfix": "",
     "delete_cmd_prefix": "del ",
     "library": "var_list.py",
     "varRefreshCmd": "print(var_dic_list())"
    },
    "r": {
     "delete_cmd_postfix": ") ",
     "delete_cmd_prefix": "rm(",
     "library": "var_list.r",
     "varRefreshCmd": "cat(var_dic_list()) "
    }
   },
   "position": {
    "height": "283px",
    "left": "150px",
    "right": "20px",
    "top": "264px",
    "width": "498px"
   },
   "types_to_exclude": [
    "module",
    "function",
    "builtin_function_or_method",
    "instance",
    "_Feature"
   ],
   "window_display": false
  }
 },
 "nbformat": 4,
 "nbformat_minor": 2
}
